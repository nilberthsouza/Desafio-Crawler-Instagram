{
 "cells": [
  {
   "cell_type": "code",
   "execution_count": 1,
   "metadata": {},
   "outputs": [],
   "source": [
    "#!/usr/bin/env python\n",
    "# coding: utf-8\n",
    "\n",
    "\n",
    "from bs4 import BeautifulSoup\n",
    "import requests\n",
    "\n",
    "class Page:\n",
    "    def __init__(self,link):\n",
    "        self.link = link\n",
    "        self.site = requests.get(link).text\n",
    "        \n",
    "    def title(self):\n",
    "        res = BeautifulSoup(self.site,'html.parser')\n",
    "        pageTitle = res.find(class_='header-title-content')\n",
    "        return pageTitle.text\n",
    "\n",
    "\n",
    "\n",
    "page = Page('https://g1.globo.com/bemestar/')"
   ]
  },
  {
   "cell_type": "code",
   "execution_count": 3,
   "metadata": {},
   "outputs": [],
   "source": [
    "class Convert(Page):    \n",
    "    \n",
    "    @staticmethod\n",
    "    def from_string_to_text(arg):\n",
    "        return arg.text\n",
    "\n"
   ]
  },
  {
   "cell_type": "code",
   "execution_count": 4,
   "metadata": {},
   "outputs": [],
   "source": [
    "class Feed(Page):\n",
    "    posts = []\n",
    "    \n",
    "    def post(self):\n",
    "        response = []\n",
    "        soup = BeautifulSoup(self.site, 'html.parser')\n",
    "        result = soup.find_all(class_='feed-post-link')\n",
    "        for res in result:\n",
    "            response.append(Convert.from_string_to_text(res))\n",
    "        return response"
   ]
  },
  {
   "cell_type": "code",
   "execution_count": 5,
   "metadata": {},
   "outputs": [],
   "source": [
    "feed = Feed('https://g1.globo.com/bemestar/')"
   ]
  },
  {
   "cell_type": "code",
   "execution_count": 6,
   "metadata": {},
   "outputs": [
    {
     "data": {
      "text/plain": [
       "'https://g1.globo.com/bemestar/'"
      ]
     },
     "execution_count": 6,
     "metadata": {},
     "output_type": "execute_result"
    }
   ],
   "source": [
    "feed.link"
   ]
  },
  {
   "cell_type": "code",
   "execution_count": 7,
   "metadata": {},
   "outputs": [
    {
     "data": {
      "text/plain": [
       "['Sintomas, transmissão e letalidade: entenda os riscos',\n",
       " 'G1 lança série de vídeos com dúvidas sobre o coronavírus',\n",
       " 'Bem Estar #31: infectologista tira dúvidas sobre o coronavírus',\n",
       " 'Governo autoriza repasse de recursos do BNDES via empresas de tecnologia de serviço financeiro',\n",
       " 'Niterói promete pagar salário de parte dos funcionários das pequenas empresas da cidade para amenizar impacto econômico, diz prefeito',\n",
       " 'Pernambuco tem 48 casos confirmados do novo coronavírus e seis curas clínicas da Covid-19',\n",
       " \"'Está muito bem clinicamente', diz coordenadora de hospital sobre paciente com coronavírus que teve alta em Salvador\",\n",
       " 'Indaiatuba registra 3ª morte por suspeita de coronavírus e cobra agilidade do Instituto Adolfo Lutz',\n",
       " 'RS tem 190 casos confirmados do novo coronavírus em 43 cidades',\n",
       " 'Governo monitora 728 casos suspeitos e tem 10 confirmados do novo coronavírus no Maranhão']"
      ]
     },
     "execution_count": 7,
     "metadata": {},
     "output_type": "execute_result"
    }
   ],
   "source": [
    "feed.post()"
   ]
  },
  {
   "cell_type": "code",
   "execution_count": 10,
   "metadata": {},
   "outputs": [
    {
     "name": "stdout",
     "output_type": "stream",
     "text": [
      "[<a class=\"feed-post-link gui-color-primary gui-color-hover\" href=\"https://especiais.g1.globo.com/bemestar/2020/coronavirus/?_ga=2.52726058.360751830.1583749977-ec98ff1c-5ce7-d1aa-e87a-46611118bc7b\">Sintomas, transmissão e letalidade: entenda os riscos</a>, <a class=\"feed-post-link gui-color-primary gui-color-hover\" href=\"https://g1.globo.com/bemestar/coronavirus/videos-perguntas-e-respostas/playlist/videos-coronavirus-perguntas-e-respostas.ghtml#video-8394828-id\">G1 lança série de vídeos com dúvidas sobre o coronavírus</a>, <a class=\"feed-post-link gui-color-primary gui-color-hover\" href=\"https://g1.globo.com/bemestar/podcast/noticia/2020/03/25/bem-estar-31-infectologista-tira-duvidas-sobre-o-coronavirus.ghtml\">Bem Estar #31: infectologista tira dúvidas sobre o coronavírus</a>, <a class=\"feed-post-link gui-color-primary gui-color-hover\" href=\"https://g1.globo.com/economia/noticia/2020/03/26/governo-autoriza-repasse-de-recursos-do-bndes-via-empresas-de-tecnologia-de-servico-financeiro.ghtml\">Governo autoriza repasse de recursos do BNDES via empresas de tecnologia de serviço financeiro</a>, <a class=\"feed-post-link gui-color-primary gui-color-hover\" href=\"https://g1.globo.com/rj/rio-de-janeiro/noticia/2020/03/26/niteroi-vai-pagar-salario-de-parte-dos-funcionarios-pequenas-empresas-para-amenizar-impacto-do-coronavirus-diz-prefeito.ghtml\">Niterói promete pagar salário de parte dos funcionários das pequenas empresas da cidade para amenizar impacto econômico, diz prefeito</a>, <a class=\"feed-post-link gui-color-primary gui-color-hover\" href=\"https://g1.globo.com/pe/pernambuco/noticia/2020/03/26/pernambuco-tem-48-casos-confirmados-do-novo-coronavirus-e-seis-curas-clinicas-da-covid-19.ghtml\">Pernambuco tem 48 casos confirmados do novo coronavírus e seis curas clínicas da Covid-19</a>, <a class=\"feed-post-link gui-color-primary gui-color-hover\" href=\"https://g1.globo.com/ba/bahia/noticia/2020/03/26/esta-muito-bem-clinicamente-diz-coordenadora-de-hospital-sobre-paciente-com-coronavirus-que-teve-alta-em-salvador.ghtml\">'Está muito bem clinicamente', diz coordenadora de hospital sobre paciente com coronavírus que teve alta em Salvador</a>, <a class=\"feed-post-link gui-color-primary gui-color-hover\" href=\"https://g1.globo.com/sp/campinas-regiao/noticia/2020/03/26/indaiatuba-registra-3a-morte-por-suspeita-de-coronavirus-e-cobra-agilidade-do-instituto-adolfo-lutz.ghtml\">Indaiatuba registra 3ª morte por suspeita de coronavírus e cobra agilidade do Instituto Adolfo Lutz</a>, <a class=\"feed-post-link gui-color-primary gui-color-hover\" href=\"https://g1.globo.com/rs/rio-grande-do-sul/noticia/2020/03/26/rs-tem-190-casos-confirmados-do-novo-coronavirus-em-43-cidades.ghtml\">RS tem 190 casos confirmados do novo coronavírus em 43 cidades</a>, <a class=\"feed-post-link gui-color-primary gui-color-hover\" href=\"https://g1.globo.com/ma/maranhao/noticia/2020/03/26/governo-monitora-728-casos-suspeitos-e-tem-10-confirmados-do-novo-coronavirus-no-maranhao.ghtml\">Governo monitora 728 casos suspeitos e tem 10 confirmados do novo coronavírus no Maranhão</a>]\n"
     ]
    },
    {
     "data": {
      "text/plain": [
       "['Sintomas, transmissão e letalidade: entenda os riscos',\n",
       " 'G1 lança série de vídeos com dúvidas sobre o coronavírus',\n",
       " 'Bem Estar #31: infectologista tira dúvidas sobre o coronavírus',\n",
       " 'Governo autoriza repasse de recursos do BNDES via empresas de tecnologia de serviço financeiro',\n",
       " 'Niterói promete pagar salário de parte dos funcionários das pequenas empresas da cidade para amenizar impacto econômico, diz prefeito',\n",
       " 'Pernambuco tem 48 casos confirmados do novo coronavírus e seis curas clínicas da Covid-19',\n",
       " \"'Está muito bem clinicamente', diz coordenadora de hospital sobre paciente com coronavírus que teve alta em Salvador\",\n",
       " 'Indaiatuba registra 3ª morte por suspeita de coronavírus e cobra agilidade do Instituto Adolfo Lutz',\n",
       " 'RS tem 190 casos confirmados do novo coronavírus em 43 cidades',\n",
       " 'Governo monitora 728 casos suspeitos e tem 10 confirmados do novo coronavírus no Maranhão']"
      ]
     },
     "execution_count": 10,
     "metadata": {},
     "output_type": "execute_result"
    }
   ],
   "source": [
    "class Link(Page):\n",
    "    posts = []\n",
    "    \n",
    "    def showlink(self):\n",
    "        response = []\n",
    "        soup = BeautifulSoup(self.site, 'html.parser')\n",
    "        result = soup.find_all(\"a\",class_='feed-post-link')\n",
    "        print(result)\n",
    "        for res in result:\n",
    "            response.append(res.string)\n",
    "        return response\n",
    "link = Link('https://g1.globo.com/bemestar/')\n",
    "link.showlink()"
   ]
  },
  {
   "cell_type": "code",
   "execution_count": null,
   "metadata": {},
   "outputs": [],
   "source": []
  },
  {
   "cell_type": "code",
   "execution_count": null,
   "metadata": {},
   "outputs": [],
   "source": []
  }
 ],
 "metadata": {
  "kernelspec": {
   "display_name": "Python 3",
   "language": "python",
   "name": "python3"
  },
  "language_info": {
   "codemirror_mode": {
    "name": "ipython",
    "version": 3
   },
   "file_extension": ".py",
   "mimetype": "text/x-python",
   "name": "python",
   "nbconvert_exporter": "python",
   "pygments_lexer": "ipython3",
   "version": "3.7.4"
  }
 },
 "nbformat": 4,
 "nbformat_minor": 2
}
