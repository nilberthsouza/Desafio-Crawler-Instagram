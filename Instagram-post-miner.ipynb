{
 "cells": [
  {
   "cell_type": "markdown",
   "metadata": {},
   "source": [
    "# Desafio \n",
    "\n",
    "Criação de um crawler em python que coleta dados do instagram (post's e seus respectivos comentarios), dada uma hashtag como parâmentro, e armazena os dados em um banco de dados (preferencialmente mongoDB), o programa deverá ter a opção de pesquisa de dados no banco de dados de uma hashtag especifica.\n",
    "\n",
    "\n",
    "> Dica:\n",
    "Os dados do instagram podem ser retornados em formato json, para isso basta colocar o sufixo ```?_a=1``` no final da URL. \n",
    "\n",
    "\n",
    "Exeplo:\n",
    "URL deposts contendo cruzeiro:\n",
    "\n",
    "https://wwww.instagram.com/explore/tags/cruzeiro\n",
    "\n",
    "\n",
    "\n",
    "mesma URL retornando os dados em json:\n",
    "\n",
    "\n",
    "https://wwww.instagram.com/explore/tags/cruzeiro?_a=1\n",
    "\n",
    "\n",
    "\n",
    "Para melhor vizualização dos dados json, há extensões de navegadores que melhoram a visuazação dos dados:\n",
    "exemplo:\n",
    "\n",
    "\n",
    "Json Formatter\n",
    "\n",
    "\n",
    "\n",
    "Links úteis:\n",
    "pythonforbeginners.com/requests/using-requests-in-python\n",
    "mongodb.com/blog/post/getting-started-with-python-and-mongodb\n",
    "\n"
   ]
  },
  {
   "cell_type": "code",
   "execution_count": 10,
   "metadata": {},
   "outputs": [],
   "source": [
    "#!pip install pymongo\n",
    "import requests\n",
    "import pandas as pd\n",
    "from pymongo import MongoClient\n",
    "import json"
   ]
  },
  {
   "cell_type": "code",
   "execution_count": 11,
   "metadata": {},
   "outputs": [],
   "source": [
    "client = MongoClient('localhost',27017)\n",
    "db = client.socialnetwork\n"
   ]
  },
  {
   "cell_type": "code",
   "execution_count": 12,
   "metadata": {
    "scrolled": false
   },
   "outputs": [],
   "source": [
    "def return_comments(shortcode_id):\n",
    "    knowed_page = str('https://www.instagram.com/p/'+ shortcode_id+'/?__a=1')\n",
    "    coments = json.loads(str(requests.get(knowed_page).text))\n",
    "    total_comments = []\n",
    "    for j in range(len(coments['graphql']['shortcode_media']['edge_media_to_parent_comment']['edges'])):\n",
    "                   total_comments.append(coments['graphql']['shortcode_media']['edge_media_to_parent_comment']['edges'][j]['node']['text'])\n",
    "    return total_comments\n",
    "\n",
    "\n",
    "\n",
    "def crawling_page(newDictionary,searchedTerm):\n",
    "    for i in range(len(newDictionary['graphql']['hashtag']['edge_hashtag_to_media']['edges'])):\n",
    "        user_id = newDictionary['graphql']['hashtag']['edge_hashtag_to_media']['edges'][i]['node']['id']\n",
    "        short_code = newDictionary['graphql']['hashtag']['edge_hashtag_to_media']['edges'][i]['node']['shortcode']\n",
    "        text_post = newDictionary['graphql']['hashtag']['edge_hashtag_to_media']['edges'][i]['node']['edge_media_to_caption']['edges'][0]['node']['text']\n",
    "        comments = list(return_comments(str(short_code)))\n",
    "        \n",
    "        userdata = {\n",
    "            '_id':user_id,\n",
    "            'short_code':short_code,\n",
    "            'text_content':text_post,\n",
    "            'comments':comments}\n",
    "        \n",
    "        db[str(searchedTerm)].insert_one(userdata)\n",
    "           "
   ]
  },
  {
   "cell_type": "code",
   "execution_count": 13,
   "metadata": {},
   "outputs": [],
   "source": [
    "def create_colection(tag):\n",
    "    '''make a colection with the tag specified'''\n",
    "    colection = db[str(tag)]\n",
    "    return True\n",
    "\n",
    "def register_new_tag():\n",
    "    print('item a ser pesquisado:\\n')\n",
    "    searchedTerm = str(input())\n",
    "    \n",
    "    phraselSearchTerm = str('https://www.instagram.com/explore/tags/' + searchedTerm +'/?__a=1')\n",
    "    \n",
    "    pageTotal = requests.get(phraselSearchTerm)\n",
    "\n",
    "    newDictionary=json.loads(str(pageTotal.text))\n",
    "    \n",
    "    create_colection(str(searchedTerm))\n",
    "    \n",
    "    crawling_page(newDictionary,searchedTerm)\n",
    "    return None\n",
    "\n",
    "\n",
    "def fetch(colection):\n",
    "    for colect in colection.find():\n",
    "        pprint.pprint(colect)        \n",
    "    \n",
    "\n",
    "def select_by_id(colection,id):\n",
    "    return colection.find_one({'__id':id})\n",
    "\n",
    "\n",
    "def delete_by_od(colection, id):\n",
    "    return colection.delete_one({'_id':id})\n",
    "\n",
    "def return_registered_colections():\n",
    "     return db.list_collection_names()\n",
    "\n",
    "\n",
    "\n",
    "\n",
    "    \n",
    "                     \n",
    "                     "
   ]
  },
  {
   "cell_type": "code",
   "execution_count": 14,
   "metadata": {},
   "outputs": [
    {
     "name": "stdout",
     "output_type": "stream",
     "text": [
      "item a ser pesquisado:\n",
      "\n",
      "bbb20\n"
     ]
    }
   ],
   "source": [
    "register_new_tag()\n"
   ]
  },
  {
   "cell_type": "code",
   "execution_count": null,
   "metadata": {
    "scrolled": true
   },
   "outputs": [],
   "source": []
  },
  {
   "cell_type": "code",
   "execution_count": null,
   "metadata": {},
   "outputs": [],
   "source": []
  },
  {
   "cell_type": "code",
   "execution_count": null,
   "metadata": {},
   "outputs": [],
   "source": []
  }
 ],
 "metadata": {
  "kernelspec": {
   "display_name": "Python 3",
   "language": "python",
   "name": "python3"
  },
  "language_info": {
   "codemirror_mode": {
    "name": "ipython",
    "version": 3
   },
   "file_extension": ".py",
   "mimetype": "text/x-python",
   "name": "python",
   "nbconvert_exporter": "python",
   "pygments_lexer": "ipython3",
   "version": "3.7.4"
  }
 },
 "nbformat": 4,
 "nbformat_minor": 2
}
